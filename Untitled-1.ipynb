{
 "cells": [
  {
   "cell_type": "code",
   "execution_count": 10,
   "metadata": {},
   "outputs": [
    {
     "name": "stdout",
     "output_type": "stream",
     "text": [
      "Hello World\n"
     ]
    }
   ],
   "source": [
    "print (\"Hello World\")"
   ]
  },
  {
   "cell_type": "code",
   "execution_count": 11,
   "metadata": {},
   "outputs": [
    {
     "name": "stdout",
     "output_type": "stream",
     "text": [
      "Defaulting to user installation because normal site-packages is not writeable\n",
      "Requirement already satisfied: pandas in c:\\users\\shubh\\appdata\\roaming\\python\\python312\\site-packages (2.1.4)\n",
      "Requirement already satisfied: numpy in c:\\users\\shubh\\appdata\\roaming\\python\\python312\\site-packages (1.26.2)\n",
      "Requirement already satisfied: matplotlib in c:\\users\\shubh\\appdata\\roaming\\python\\python312\\site-packages (3.8.2)\n",
      "Requirement already satisfied: seaborn in c:\\users\\shubh\\appdata\\roaming\\python\\python312\\site-packages (0.13.2)\n",
      "Requirement already satisfied: python-dateutil>=2.8.2 in c:\\users\\shubh\\appdata\\roaming\\python\\python312\\site-packages (from pandas) (2.8.2)\n",
      "Requirement already satisfied: pytz>=2020.1 in c:\\users\\shubh\\appdata\\roaming\\python\\python312\\site-packages (from pandas) (2023.3.post1)\n",
      "Requirement already satisfied: tzdata>=2022.1 in c:\\users\\shubh\\appdata\\roaming\\python\\python312\\site-packages (from pandas) (2023.3)\n",
      "Requirement already satisfied: contourpy>=1.0.1 in c:\\users\\shubh\\appdata\\roaming\\python\\python312\\site-packages (from matplotlib) (1.2.0)\n",
      "Requirement already satisfied: cycler>=0.10 in c:\\users\\shubh\\appdata\\roaming\\python\\python312\\site-packages (from matplotlib) (0.12.1)\n",
      "Requirement already satisfied: fonttools>=4.22.0 in c:\\users\\shubh\\appdata\\roaming\\python\\python312\\site-packages (from matplotlib) (4.47.0)\n",
      "Requirement already satisfied: kiwisolver>=1.3.1 in c:\\users\\shubh\\appdata\\roaming\\python\\python312\\site-packages (from matplotlib) (1.4.5)\n",
      "Requirement already satisfied: packaging>=20.0 in c:\\users\\shubh\\appdata\\roaming\\python\\python312\\site-packages (from matplotlib) (23.2)\n",
      "Requirement already satisfied: pillow>=8 in c:\\users\\shubh\\appdata\\roaming\\python\\python312\\site-packages (from matplotlib) (10.1.0)\n",
      "Requirement already satisfied: pyparsing>=2.3.1 in c:\\users\\shubh\\appdata\\roaming\\python\\python312\\site-packages (from matplotlib) (3.1.1)\n",
      "Requirement already satisfied: six>=1.5 in c:\\users\\shubh\\appdata\\roaming\\python\\python312\\site-packages (from python-dateutil>=2.8.2->pandas) (1.16.0)\n",
      "Note: you may need to restart the kernel to use updated packages.\n"
     ]
    },
    {
     "name": "stderr",
     "output_type": "stream",
     "text": [
      "\n",
      "[notice] A new release of pip is available: 23.3.2 -> 25.0.1\n",
      "[notice] To update, run: python.exe -m pip install --upgrade pip\n"
     ]
    }
   ],
   "source": [
    "pip install pandas numpy matplotlib seaborn\n"
   ]
  },
  {
   "cell_type": "code",
   "execution_count": 12,
   "metadata": {},
   "outputs": [
    {
     "data": {
      "text/plain": [
       "array([24, 10, 27, 18, 64, 81, 17, 75, 89, 30, 45, 17])"
      ]
     },
     "execution_count": 12,
     "metadata": {},
     "output_type": "execute_result"
    }
   ],
   "source": [
    "import numpy as np\n",
    "np.random.randint(10,100,12)\n"
   ]
  },
  {
   "cell_type": "code",
   "execution_count": 13,
   "metadata": {},
   "outputs": [
    {
     "name": "stdout",
     "output_type": "stream",
     "text": [
      "energy consumption in mwh for different energy sources:\n"
     ]
    },
    {
     "data": {
      "text/plain": [
       "array([1200, 3400, 2900, 1800, 2500])"
      ]
     },
     "execution_count": 13,
     "metadata": {},
     "output_type": "execute_result"
    }
   ],
   "source": [
    "import numpy as np\n",
    "energy_consumption =np.array([1200,3400,2900,1800,2500])\n",
    "print(\"energy consumption in mwh for different energy sources:\")\n",
    "energy_consumption"
   ]
  },
  {
   "cell_type": "code",
   "execution_count": 14,
   "metadata": {},
   "outputs": [
    {
     "name": "stdout",
     "output_type": "stream",
     "text": [
      "The total energy consumption is ,11800 MWh\n"
     ]
    }
   ],
   "source": [
    "total_consumption= np.sum(energy_consumption)\n",
    "print(f\"The total energy consumption is ,{total_consumption} MWh\")"
   ]
  },
  {
   "cell_type": "code",
   "execution_count": 15,
   "metadata": {},
   "outputs": [
    {
     "name": "stdout",
     "output_type": "stream",
     "text": [
      "The mean of Energy consumption is 2360.0 MWh\n"
     ]
    }
   ],
   "source": [
    "mean_energy_consumption= np.mean(energy_consumption)\n",
    "print(f\"The mean of Energy consumption is {mean_energy_consumption} MWh\")"
   ]
  },
  {
   "cell_type": "code",
   "execution_count": 16,
   "metadata": {},
   "outputs": [
    {
     "data": {
      "text/plain": [
       "781.2809993849844"
      ]
     },
     "execution_count": 16,
     "metadata": {},
     "output_type": "execute_result"
    }
   ],
   "source": [
    "std_ec =np.std(energy_consumption)\n",
    "std_ec"
   ]
  },
  {
   "cell_type": "code",
   "execution_count": 17,
   "metadata": {},
   "outputs": [
    {
     "name": "stdout",
     "output_type": "stream",
     "text": [
      "The Standard Deviation for Energy Consumption:781.2809993849844 MWh\n"
     ]
    }
   ],
   "source": [
    "print(f'The Standard Deviation for Energy Consumption:{std_ec} MWh')"
   ]
  },
  {
   "cell_type": "code",
   "execution_count": 18,
   "metadata": {},
   "outputs": [
    {
     "name": "stdout",
     "output_type": "stream",
     "text": [
      "Reshaped array is:\n",
      "[[1200]\n",
      " [3400]\n",
      " [2900]\n",
      " [1800]\n",
      " [2500]]\n"
     ]
    }
   ],
   "source": [
    "reshaped_array= energy_consumption.reshape((5,1))\n",
    "print('Reshaped array is:')\n",
    "print(reshaped_array)"
   ]
  },
  {
   "cell_type": "markdown",
   "metadata": {},
   "source": [
    "#Data Preprocessing"
   ]
  },
  {
   "cell_type": "code",
   "execution_count": 25,
   "metadata": {},
   "outputs": [],
   "source": [
    "import pandas as pd\n",
    "import numpy as np\n",
    "#sample data with missing value\n",
    "data ={\"Energy Source\":['Solar','Wind','Hydropower','Geothermal','Biomass','Nuclear'],\n",
    "       \"Energy Consumption (MWh)\":[1200,np.nan,2900,np.nan,2500,3200],\n",
    "       \"Cost(Millions $)\":[200,400,np.nan,150,250,np.nan]}"
   ]
  },
  {
   "cell_type": "code",
   "execution_count": 26,
   "metadata": {},
   "outputs": [
    {
     "name": "stdout",
     "output_type": "stream",
     "text": [
      "  Energy Source  Energy Consumption (MWh)  Cost(Millions $)\n",
      "0         Solar                    1200.0             200.0\n",
      "1          Wind                       NaN             400.0\n",
      "2    Hydropower                    2900.0               NaN\n",
      "3    Geothermal                       NaN             150.0\n",
      "4       Biomass                    2500.0             250.0\n",
      "5       Nuclear                    3200.0               NaN\n"
     ]
    }
   ],
   "source": [
    "#create data frame\n",
    "df = pd.DataFrame(data)\n",
    "print(df)"
   ]
  },
  {
   "cell_type": "markdown",
   "metadata": {},
   "source": [
    "##Handle the missing values:\n",
    "Removing (drop)mv\n",
    "Impute (fill)mv-mean"
   ]
  },
  {
   "cell_type": "code",
   "execution_count": 27,
   "metadata": {},
   "outputs": [
    {
     "data": {
      "text/html": [
       "<div>\n",
       "<style scoped>\n",
       "    .dataframe tbody tr th:only-of-type {\n",
       "        vertical-align: middle;\n",
       "    }\n",
       "\n",
       "    .dataframe tbody tr th {\n",
       "        vertical-align: top;\n",
       "    }\n",
       "\n",
       "    .dataframe thead th {\n",
       "        text-align: right;\n",
       "    }\n",
       "</style>\n",
       "<table border=\"1\" class=\"dataframe\">\n",
       "  <thead>\n",
       "    <tr style=\"text-align: right;\">\n",
       "      <th></th>\n",
       "      <th>Energy Source</th>\n",
       "      <th>Energy Consumption (MWh)</th>\n",
       "      <th>Cost(Millions $)</th>\n",
       "    </tr>\n",
       "  </thead>\n",
       "  <tbody>\n",
       "    <tr>\n",
       "      <th>0</th>\n",
       "      <td>Solar</td>\n",
       "      <td>1200.0</td>\n",
       "      <td>200.0</td>\n",
       "    </tr>\n",
       "    <tr>\n",
       "      <th>4</th>\n",
       "      <td>Biomass</td>\n",
       "      <td>2500.0</td>\n",
       "      <td>250.0</td>\n",
       "    </tr>\n",
       "  </tbody>\n",
       "</table>\n",
       "</div>"
      ],
      "text/plain": [
       "  Energy Source  Energy Consumption (MWh)  Cost(Millions $)\n",
       "0         Solar                    1200.0             200.0\n",
       "4       Biomass                    2500.0             250.0"
      ]
     },
     "execution_count": 27,
     "metadata": {},
     "output_type": "execute_result"
    }
   ],
   "source": [
    "#remove rows with missing value\n",
    "cleaned_df= df.dropna()\n",
    "cleaned_df"
   ]
  },
  {
   "cell_type": "markdown",
   "metadata": {},
   "source": [
    "## Imputation too add or fill\n",
    "with mean\n",
    "forward/backward filling\n"
   ]
  },
  {
   "cell_type": "code",
   "execution_count": 30,
   "metadata": {},
   "outputs": [],
   "source": [
    "# impute missing values with the mean for energy consumption\n",
    "df['Energy Consumption (MWh)'].fillna(df['Energy Consumption (MWh)'].mean(), inplace= True)\n",
    "df['Cost(Millions $)'].fillna(df['Cost(Millions $)'].mean(), inplace=True)"
   ]
  },
  {
   "cell_type": "code",
   "execution_count": 32,
   "metadata": {},
   "outputs": [
    {
     "name": "stderr",
     "output_type": "stream",
     "text": [
      "C:\\Users\\shubh\\AppData\\Local\\Temp\\ipykernel_14480\\1661272752.py:2: FutureWarning: DataFrame.fillna with 'method' is deprecated and will raise in a future version. Use obj.ffill() or obj.bfill() instead.\n",
      "  ff_df= df.fillna(method=\"ffill\")\n"
     ]
    },
    {
     "data": {
      "text/html": [
       "<div>\n",
       "<style scoped>\n",
       "    .dataframe tbody tr th:only-of-type {\n",
       "        vertical-align: middle;\n",
       "    }\n",
       "\n",
       "    .dataframe tbody tr th {\n",
       "        vertical-align: top;\n",
       "    }\n",
       "\n",
       "    .dataframe thead th {\n",
       "        text-align: right;\n",
       "    }\n",
       "</style>\n",
       "<table border=\"1\" class=\"dataframe\">\n",
       "  <thead>\n",
       "    <tr style=\"text-align: right;\">\n",
       "      <th></th>\n",
       "      <th>Energy Source</th>\n",
       "      <th>Energy Consumption (MWh)</th>\n",
       "      <th>Cost(Millions $)</th>\n",
       "    </tr>\n",
       "  </thead>\n",
       "  <tbody>\n",
       "    <tr>\n",
       "      <th>0</th>\n",
       "      <td>Solar</td>\n",
       "      <td>1200.0</td>\n",
       "      <td>200.0</td>\n",
       "    </tr>\n",
       "    <tr>\n",
       "      <th>1</th>\n",
       "      <td>Wind</td>\n",
       "      <td>2450.0</td>\n",
       "      <td>400.0</td>\n",
       "    </tr>\n",
       "    <tr>\n",
       "      <th>2</th>\n",
       "      <td>Hydropower</td>\n",
       "      <td>2900.0</td>\n",
       "      <td>250.0</td>\n",
       "    </tr>\n",
       "    <tr>\n",
       "      <th>3</th>\n",
       "      <td>Geothermal</td>\n",
       "      <td>2450.0</td>\n",
       "      <td>150.0</td>\n",
       "    </tr>\n",
       "    <tr>\n",
       "      <th>4</th>\n",
       "      <td>Biomass</td>\n",
       "      <td>2500.0</td>\n",
       "      <td>250.0</td>\n",
       "    </tr>\n",
       "    <tr>\n",
       "      <th>5</th>\n",
       "      <td>Nuclear</td>\n",
       "      <td>3200.0</td>\n",
       "      <td>250.0</td>\n",
       "    </tr>\n",
       "  </tbody>\n",
       "</table>\n",
       "</div>"
      ],
      "text/plain": [
       "  Energy Source  Energy Consumption (MWh)  Cost(Millions $)\n",
       "0         Solar                    1200.0             200.0\n",
       "1          Wind                    2450.0             400.0\n",
       "2    Hydropower                    2900.0             250.0\n",
       "3    Geothermal                    2450.0             150.0\n",
       "4       Biomass                    2500.0             250.0\n",
       "5       Nuclear                    3200.0             250.0"
      ]
     },
     "execution_count": 32,
     "metadata": {},
     "output_type": "execute_result"
    }
   ],
   "source": [
    "# forward filling\n",
    "ff_df= df.fillna(method=\"ffill\")\n",
    "ff_df"
   ]
  },
  {
   "cell_type": "code",
   "execution_count": 33,
   "metadata": {},
   "outputs": [
    {
     "name": "stderr",
     "output_type": "stream",
     "text": [
      "C:\\Users\\shubh\\AppData\\Local\\Temp\\ipykernel_14480\\3888425634.py:1: FutureWarning: DataFrame.fillna with 'method' is deprecated and will raise in a future version. Use obj.ffill() or obj.bfill() instead.\n",
      "  ff_df= df.fillna(method=\"bfill\")\n"
     ]
    },
    {
     "data": {
      "text/html": [
       "<div>\n",
       "<style scoped>\n",
       "    .dataframe tbody tr th:only-of-type {\n",
       "        vertical-align: middle;\n",
       "    }\n",
       "\n",
       "    .dataframe tbody tr th {\n",
       "        vertical-align: top;\n",
       "    }\n",
       "\n",
       "    .dataframe thead th {\n",
       "        text-align: right;\n",
       "    }\n",
       "</style>\n",
       "<table border=\"1\" class=\"dataframe\">\n",
       "  <thead>\n",
       "    <tr style=\"text-align: right;\">\n",
       "      <th></th>\n",
       "      <th>Energy Source</th>\n",
       "      <th>Energy Consumption (MWh)</th>\n",
       "      <th>Cost(Millions $)</th>\n",
       "    </tr>\n",
       "  </thead>\n",
       "  <tbody>\n",
       "    <tr>\n",
       "      <th>0</th>\n",
       "      <td>Solar</td>\n",
       "      <td>1200.0</td>\n",
       "      <td>200.0</td>\n",
       "    </tr>\n",
       "    <tr>\n",
       "      <th>1</th>\n",
       "      <td>Wind</td>\n",
       "      <td>2450.0</td>\n",
       "      <td>400.0</td>\n",
       "    </tr>\n",
       "    <tr>\n",
       "      <th>2</th>\n",
       "      <td>Hydropower</td>\n",
       "      <td>2900.0</td>\n",
       "      <td>250.0</td>\n",
       "    </tr>\n",
       "    <tr>\n",
       "      <th>3</th>\n",
       "      <td>Geothermal</td>\n",
       "      <td>2450.0</td>\n",
       "      <td>150.0</td>\n",
       "    </tr>\n",
       "    <tr>\n",
       "      <th>4</th>\n",
       "      <td>Biomass</td>\n",
       "      <td>2500.0</td>\n",
       "      <td>250.0</td>\n",
       "    </tr>\n",
       "    <tr>\n",
       "      <th>5</th>\n",
       "      <td>Nuclear</td>\n",
       "      <td>3200.0</td>\n",
       "      <td>250.0</td>\n",
       "    </tr>\n",
       "  </tbody>\n",
       "</table>\n",
       "</div>"
      ],
      "text/plain": [
       "  Energy Source  Energy Consumption (MWh)  Cost(Millions $)\n",
       "0         Solar                    1200.0             200.0\n",
       "1          Wind                    2450.0             400.0\n",
       "2    Hydropower                    2900.0             250.0\n",
       "3    Geothermal                    2450.0             150.0\n",
       "4       Biomass                    2500.0             250.0\n",
       "5       Nuclear                    3200.0             250.0"
      ]
     },
     "execution_count": 33,
     "metadata": {},
     "output_type": "execute_result"
    }
   ],
   "source": [
    "ff_df= df.fillna(method=\"bfill\")\n",
    "ff_df"
   ]
  },
  {
   "cell_type": "code",
   "execution_count": 34,
   "metadata": {},
   "outputs": [
    {
     "name": "stdout",
     "output_type": "stream",
     "text": [
      "Defaulting to user installation because normal site-packages is not writeable\n",
      "Collecting scikit-learn\n",
      "  Downloading scikit_learn-1.6.1-cp312-cp312-win_amd64.whl.metadata (15 kB)\n",
      "Requirement already satisfied: numpy>=1.19.5 in c:\\users\\shubh\\appdata\\roaming\\python\\python312\\site-packages (from scikit-learn) (1.26.2)\n",
      "Collecting scipy>=1.6.0 (from scikit-learn)\n",
      "  Downloading scipy-1.15.1-cp312-cp312-win_amd64.whl.metadata (60 kB)\n",
      "     ---------------------------------------- 0.0/60.8 kB ? eta -:--:--\n",
      "     ------ --------------------------------- 10.2/60.8 kB ? eta -:--:--\n",
      "     -------------------------------------- 60.8/60.8 kB 814.9 kB/s eta 0:00:00\n",
      "Collecting joblib>=1.2.0 (from scikit-learn)\n",
      "  Downloading joblib-1.4.2-py3-none-any.whl.metadata (5.4 kB)\n",
      "Collecting threadpoolctl>=3.1.0 (from scikit-learn)\n",
      "  Downloading threadpoolctl-3.5.0-py3-none-any.whl.metadata (13 kB)\n",
      "Downloading scikit_learn-1.6.1-cp312-cp312-win_amd64.whl (11.1 MB)\n",
      "   ---------------------------------------- 0.0/11.1 MB ? eta -:--:--\n",
      "   ---------------------------------------- 0.0/11.1 MB ? eta -:--:--\n",
      "   ---------------------------------------- 0.1/11.1 MB 825.8 kB/s eta 0:00:14\n",
      "   ---------------------------------------- 0.1/11.1 MB 919.0 kB/s eta 0:00:13\n",
      "   ---------------------------------------- 0.1/11.1 MB 722.1 kB/s eta 0:00:16\n",
      "    --------------------------------------- 0.2/11.1 MB 985.7 kB/s eta 0:00:12\n",
      "    --------------------------------------- 0.3/11.1 MB 1.0 MB/s eta 0:00:11\n",
      "   - -------------------------------------- 0.3/11.1 MB 1.1 MB/s eta 0:00:10\n",
      "   - -------------------------------------- 0.5/11.1 MB 1.3 MB/s eta 0:00:09\n",
      "   - -------------------------------------- 0.5/11.1 MB 1.3 MB/s eta 0:00:09\n",
      "   -- ------------------------------------- 0.6/11.1 MB 1.4 MB/s eta 0:00:08\n",
      "   -- ------------------------------------- 0.7/11.1 MB 1.4 MB/s eta 0:00:08\n",
      "   -- ------------------------------------- 0.8/11.1 MB 1.5 MB/s eta 0:00:07\n",
      "   --- ------------------------------------ 0.9/11.1 MB 1.6 MB/s eta 0:00:07\n",
      "   --- ------------------------------------ 1.0/11.1 MB 1.7 MB/s eta 0:00:06\n",
      "   ---- ----------------------------------- 1.1/11.1 MB 1.7 MB/s eta 0:00:06\n",
      "   ---- ----------------------------------- 1.2/11.1 MB 1.7 MB/s eta 0:00:06\n",
      "   ---- ----------------------------------- 1.2/11.1 MB 1.7 MB/s eta 0:00:06\n",
      "   ---- ----------------------------------- 1.3/11.1 MB 1.6 MB/s eta 0:00:07\n",
      "   ---- ----------------------------------- 1.3/11.1 MB 1.5 MB/s eta 0:00:07\n",
      "   ---- ----------------------------------- 1.3/11.1 MB 1.5 MB/s eta 0:00:07\n",
      "   ----- ---------------------------------- 1.4/11.1 MB 1.5 MB/s eta 0:00:07\n",
      "   ----- ---------------------------------- 1.4/11.1 MB 1.5 MB/s eta 0:00:07\n",
      "   ----- ---------------------------------- 1.5/11.1 MB 1.5 MB/s eta 0:00:07\n",
      "   ----- ---------------------------------- 1.6/11.1 MB 1.5 MB/s eta 0:00:07\n",
      "   ------ --------------------------------- 1.7/11.1 MB 1.5 MB/s eta 0:00:07\n",
      "   ------ --------------------------------- 1.8/11.1 MB 1.5 MB/s eta 0:00:07\n",
      "   ------ --------------------------------- 1.9/11.1 MB 1.5 MB/s eta 0:00:07\n",
      "   ------ --------------------------------- 1.9/11.1 MB 1.5 MB/s eta 0:00:07\n",
      "   ------- -------------------------------- 2.0/11.1 MB 1.6 MB/s eta 0:00:06\n",
      "   ------- -------------------------------- 2.1/11.1 MB 1.6 MB/s eta 0:00:06\n",
      "   -------- ------------------------------- 2.2/11.1 MB 1.6 MB/s eta 0:00:06\n",
      "   -------- ------------------------------- 2.3/11.1 MB 1.6 MB/s eta 0:00:06\n",
      "   -------- ------------------------------- 2.4/11.1 MB 1.6 MB/s eta 0:00:06\n",
      "   --------- ------------------------------ 2.6/11.1 MB 1.7 MB/s eta 0:00:06\n",
      "   --------- ------------------------------ 2.7/11.1 MB 1.7 MB/s eta 0:00:06\n",
      "   --------- ------------------------------ 2.8/11.1 MB 1.7 MB/s eta 0:00:05\n",
      "   ---------- ----------------------------- 2.9/11.1 MB 1.7 MB/s eta 0:00:05\n",
      "   ---------- ----------------------------- 2.9/11.1 MB 1.7 MB/s eta 0:00:05\n",
      "   ---------- ----------------------------- 3.0/11.1 MB 1.7 MB/s eta 0:00:05\n",
      "   ----------- ---------------------------- 3.1/11.1 MB 1.7 MB/s eta 0:00:05\n",
      "   ------------ --------------------------- 3.3/11.1 MB 1.8 MB/s eta 0:00:05\n",
      "   ------------ --------------------------- 3.5/11.1 MB 1.8 MB/s eta 0:00:05\n",
      "   ------------- -------------------------- 3.8/11.1 MB 2.0 MB/s eta 0:00:04\n",
      "   -------------- ------------------------- 4.1/11.1 MB 2.1 MB/s eta 0:00:04\n",
      "   --------------- ------------------------ 4.4/11.1 MB 2.1 MB/s eta 0:00:04\n",
      "   ---------------- ----------------------- 4.6/11.1 MB 2.2 MB/s eta 0:00:03\n",
      "   ----------------- ---------------------- 4.9/11.1 MB 2.3 MB/s eta 0:00:03\n",
      "   ------------------- -------------------- 5.3/11.1 MB 2.4 MB/s eta 0:00:03\n",
      "   -------------------- ------------------- 5.6/11.1 MB 2.5 MB/s eta 0:00:03\n",
      "   --------------------- ------------------ 5.9/11.1 MB 2.6 MB/s eta 0:00:03\n",
      "   ---------------------- ----------------- 6.3/11.1 MB 2.7 MB/s eta 0:00:02\n",
      "   ------------------------ --------------- 6.7/11.1 MB 2.8 MB/s eta 0:00:02\n",
      "   ------------------------- -------------- 7.0/11.1 MB 2.9 MB/s eta 0:00:02\n",
      "   ------------------------- -------------- 7.2/11.1 MB 2.9 MB/s eta 0:00:02\n",
      "   --------------------------- ------------ 7.5/11.1 MB 3.0 MB/s eta 0:00:02\n",
      "   --------------------------- ------------ 7.7/11.1 MB 3.0 MB/s eta 0:00:02\n",
      "   --------------------------- ------------ 7.8/11.1 MB 3.0 MB/s eta 0:00:02\n",
      "   ---------------------------- ----------- 8.0/11.1 MB 3.0 MB/s eta 0:00:02\n",
      "   ---------------------------- ----------- 8.0/11.1 MB 3.0 MB/s eta 0:00:02\n",
      "   ----------------------------- ---------- 8.2/11.1 MB 3.0 MB/s eta 0:00:01\n",
      "   ------------------------------- -------- 8.6/11.1 MB 3.1 MB/s eta 0:00:01\n",
      "   -------------------------------- ------- 8.9/11.1 MB 3.1 MB/s eta 0:00:01\n",
      "   --------------------------------- ------ 9.3/11.1 MB 3.2 MB/s eta 0:00:01\n",
      "   ---------------------------------- ----- 9.6/11.1 MB 3.3 MB/s eta 0:00:01\n",
      "   ------------------------------------ --- 10.0/11.1 MB 3.4 MB/s eta 0:00:01\n",
      "   ------------------------------------ --- 10.2/11.1 MB 3.4 MB/s eta 0:00:01\n",
      "   ------------------------------------- -- 10.4/11.1 MB 3.5 MB/s eta 0:00:01\n",
      "   -------------------------------------- - 10.6/11.1 MB 3.7 MB/s eta 0:00:01\n",
      "   ---------------------------------------  11.0/11.1 MB 3.9 MB/s eta 0:00:01\n",
      "   ---------------------------------------- 11.1/11.1 MB 3.9 MB/s eta 0:00:00\n",
      "Downloading joblib-1.4.2-py3-none-any.whl (301 kB)\n",
      "   ---------------------------------------- 0.0/301.8 kB ? eta -:--:--\n",
      "   ---------------------------------------- 301.8/301.8 kB 6.3 MB/s eta 0:00:00\n",
      "Downloading scipy-1.15.1-cp312-cp312-win_amd64.whl (43.6 MB)\n",
      "   ---------------------------------------- 0.0/43.6 MB ? eta -:--:--\n",
      "   ---------------------------------------- 0.4/43.6 MB 8.1 MB/s eta 0:00:06\n",
      "    --------------------------------------- 0.7/43.6 MB 7.8 MB/s eta 0:00:06\n",
      "   - -------------------------------------- 1.1/43.6 MB 7.9 MB/s eta 0:00:06\n",
      "   - -------------------------------------- 1.5/43.6 MB 8.0 MB/s eta 0:00:06\n",
      "   - -------------------------------------- 1.8/43.6 MB 7.7 MB/s eta 0:00:06\n",
      "   - -------------------------------------- 2.2/43.6 MB 7.6 MB/s eta 0:00:06\n",
      "   -- ------------------------------------- 2.5/43.6 MB 7.7 MB/s eta 0:00:06\n",
      "   -- ------------------------------------- 2.9/43.6 MB 7.7 MB/s eta 0:00:06\n",
      "   -- ------------------------------------- 3.2/43.6 MB 7.6 MB/s eta 0:00:06\n",
      "   --- ------------------------------------ 3.5/43.6 MB 7.5 MB/s eta 0:00:06\n",
      "   --- ------------------------------------ 3.9/43.6 MB 7.5 MB/s eta 0:00:06\n",
      "   --- ------------------------------------ 4.2/43.6 MB 7.5 MB/s eta 0:00:06\n",
      "   ---- ----------------------------------- 4.6/43.6 MB 7.5 MB/s eta 0:00:06\n",
      "   ---- ----------------------------------- 4.9/43.6 MB 7.5 MB/s eta 0:00:06\n",
      "   ---- ----------------------------------- 5.3/43.6 MB 7.5 MB/s eta 0:00:06\n",
      "   ----- ---------------------------------- 5.6/43.6 MB 7.5 MB/s eta 0:00:06\n",
      "   ----- ---------------------------------- 6.0/43.6 MB 7.5 MB/s eta 0:00:06\n",
      "   ----- ---------------------------------- 6.3/43.6 MB 7.4 MB/s eta 0:00:06\n",
      "   ----- ---------------------------------- 6.5/43.6 MB 7.3 MB/s eta 0:00:06\n",
      "   ------ --------------------------------- 6.6/43.6 MB 7.3 MB/s eta 0:00:06\n",
      "   ------ --------------------------------- 6.6/43.6 MB 7.3 MB/s eta 0:00:06\n",
      "   ------ --------------------------------- 6.7/43.6 MB 6.7 MB/s eta 0:00:06\n",
      "   ------ --------------------------------- 6.9/43.6 MB 6.4 MB/s eta 0:00:06\n",
      "   ------ --------------------------------- 6.9/43.6 MB 6.3 MB/s eta 0:00:06\n",
      "   ------ --------------------------------- 7.0/43.6 MB 6.2 MB/s eta 0:00:06\n",
      "   ------ --------------------------------- 7.2/43.6 MB 5.9 MB/s eta 0:00:07\n",
      "   ------ --------------------------------- 7.6/43.6 MB 6.1 MB/s eta 0:00:06\n",
      "   ------- -------------------------------- 7.9/43.6 MB 6.0 MB/s eta 0:00:06\n",
      "   ------- -------------------------------- 8.2/43.6 MB 6.1 MB/s eta 0:00:06\n",
      "   ------- -------------------------------- 8.4/43.6 MB 6.0 MB/s eta 0:00:06\n",
      "   -------- ------------------------------- 8.8/43.6 MB 6.1 MB/s eta 0:00:06\n",
      "   -------- ------------------------------- 9.1/43.6 MB 6.2 MB/s eta 0:00:06\n",
      "   -------- ------------------------------- 9.5/43.6 MB 6.2 MB/s eta 0:00:06\n",
      "   -------- ------------------------------- 9.8/43.6 MB 6.2 MB/s eta 0:00:06\n",
      "   --------- ------------------------------ 10.1/43.6 MB 6.2 MB/s eta 0:00:06\n",
      "   --------- ------------------------------ 10.4/43.6 MB 6.2 MB/s eta 0:00:06\n",
      "   --------- ------------------------------ 10.8/43.6 MB 6.2 MB/s eta 0:00:06\n",
      "   ---------- ----------------------------- 11.1/43.6 MB 6.2 MB/s eta 0:00:06\n",
      "   ---------- ----------------------------- 11.4/43.6 MB 6.2 MB/s eta 0:00:06\n",
      "   ---------- ----------------------------- 11.8/43.6 MB 6.2 MB/s eta 0:00:06\n",
      "   ----------- ---------------------------- 12.2/43.6 MB 6.2 MB/s eta 0:00:06\n",
      "   ----------- ---------------------------- 12.5/43.6 MB 6.2 MB/s eta 0:00:06\n",
      "   ----------- ---------------------------- 12.5/43.6 MB 6.1 MB/s eta 0:00:06\n",
      "   ----------- ---------------------------- 12.7/43.6 MB 6.0 MB/s eta 0:00:06\n",
      "   ----------- ---------------------------- 12.9/43.6 MB 5.8 MB/s eta 0:00:06\n",
      "   ------------ --------------------------- 13.3/43.6 MB 5.8 MB/s eta 0:00:06\n",
      "   ------------ --------------------------- 13.6/43.6 MB 5.8 MB/s eta 0:00:06\n",
      "   ------------ --------------------------- 14.0/43.6 MB 5.9 MB/s eta 0:00:06\n",
      "   ------------- -------------------------- 14.3/43.6 MB 5.9 MB/s eta 0:00:05\n",
      "   ------------- -------------------------- 14.7/43.6 MB 5.9 MB/s eta 0:00:05\n",
      "   ------------- -------------------------- 15.2/43.6 MB 6.0 MB/s eta 0:00:05\n",
      "   -------------- ------------------------- 15.7/43.6 MB 6.0 MB/s eta 0:00:05\n",
      "   -------------- ------------------------- 16.3/43.6 MB 6.2 MB/s eta 0:00:05\n",
      "   --------------- ------------------------ 16.8/43.6 MB 6.4 MB/s eta 0:00:05\n",
      "   ---------------- ----------------------- 17.5/43.6 MB 7.7 MB/s eta 0:00:04\n",
      "   ---------------- ----------------------- 18.1/43.6 MB 7.8 MB/s eta 0:00:04\n",
      "   ----------------- ---------------------- 18.6/43.6 MB 8.1 MB/s eta 0:00:04\n",
      "   ----------------- ---------------------- 19.3/43.6 MB 8.3 MB/s eta 0:00:03\n",
      "   ----------------- ---------------------- 19.6/43.6 MB 8.3 MB/s eta 0:00:03\n",
      "   ------------------ --------------------- 20.2/43.6 MB 8.7 MB/s eta 0:00:03\n",
      "   ------------------ --------------------- 20.6/43.6 MB 8.8 MB/s eta 0:00:03\n",
      "   ------------------- -------------------- 21.1/43.6 MB 9.1 MB/s eta 0:00:03\n",
      "   ------------------- -------------------- 21.2/43.6 MB 8.6 MB/s eta 0:00:03\n",
      "   -------------------- ------------------- 22.2/43.6 MB 9.4 MB/s eta 0:00:03\n",
      "   --------------------- ------------------ 22.9/43.6 MB 10.4 MB/s eta 0:00:02\n",
      "   --------------------- ------------------ 23.1/43.6 MB 10.4 MB/s eta 0:00:02\n",
      "   --------------------- ------------------ 23.2/43.6 MB 10.2 MB/s eta 0:00:02\n",
      "   --------------------- ------------------ 23.2/43.6 MB 10.2 MB/s eta 0:00:02\n",
      "   ---------------------- ----------------- 24.5/43.6 MB 10.9 MB/s eta 0:00:02\n",
      "   ---------------------- ----------------- 25.0/43.6 MB 11.3 MB/s eta 0:00:02\n",
      "   ----------------------- ---------------- 25.5/43.6 MB 11.1 MB/s eta 0:00:02\n",
      "   ----------------------- ---------------- 25.7/43.6 MB 10.9 MB/s eta 0:00:02\n",
      "   ------------------------ --------------- 26.2/43.6 MB 10.7 MB/s eta 0:00:02\n",
      "   ------------------------ --------------- 26.7/43.6 MB 10.7 MB/s eta 0:00:02\n",
      "   ------------------------ --------------- 27.2/43.6 MB 10.7 MB/s eta 0:00:02\n",
      "   ------------------------- -------------- 27.7/43.6 MB 10.4 MB/s eta 0:00:02\n",
      "   ------------------------- -------------- 28.2/43.6 MB 10.6 MB/s eta 0:00:02\n",
      "   -------------------------- ------------- 28.8/43.6 MB 10.6 MB/s eta 0:00:02\n",
      "   -------------------------- ------------- 29.1/43.6 MB 10.2 MB/s eta 0:00:02\n",
      "   --------------------------- ------------ 29.5/43.6 MB 10.2 MB/s eta 0:00:02\n",
      "   --------------------------- ------------ 30.0/43.6 MB 10.2 MB/s eta 0:00:02\n",
      "   ---------------------------- ----------- 30.6/43.6 MB 10.1 MB/s eta 0:00:02\n",
      "   ---------------------------- ----------- 31.0/43.6 MB 10.1 MB/s eta 0:00:02\n",
      "   ---------------------------- ----------- 31.4/43.6 MB 10.6 MB/s eta 0:00:02\n",
      "   ----------------------------- ---------- 31.9/43.6 MB 10.2 MB/s eta 0:00:02\n",
      "   ----------------------------- ---------- 32.4/43.6 MB 10.1 MB/s eta 0:00:02\n",
      "   ------------------------------ --------- 33.0/43.6 MB 9.9 MB/s eta 0:00:02\n",
      "   ------------------------------ --------- 33.6/43.6 MB 11.1 MB/s eta 0:00:01\n",
      "   ------------------------------- -------- 34.1/43.6 MB 10.6 MB/s eta 0:00:01\n",
      "   ------------------------------- -------- 34.6/43.6 MB 10.4 MB/s eta 0:00:01\n",
      "   -------------------------------- ------- 35.1/43.6 MB 10.2 MB/s eta 0:00:01\n",
      "   -------------------------------- ------- 35.6/43.6 MB 10.6 MB/s eta 0:00:01\n",
      "   --------------------------------- ------ 36.0/43.6 MB 10.6 MB/s eta 0:00:01\n",
      "   --------------------------------- ------ 36.6/43.6 MB 10.7 MB/s eta 0:00:01\n",
      "   ---------------------------------- ----- 37.1/43.6 MB 10.7 MB/s eta 0:00:01\n",
      "   ---------------------------------- ----- 37.5/43.6 MB 10.7 MB/s eta 0:00:01\n",
      "   ---------------------------------- ----- 38.1/43.6 MB 10.6 MB/s eta 0:00:01\n",
      "   ----------------------------------- ---- 38.6/43.6 MB 10.6 MB/s eta 0:00:01\n",
      "   ----------------------------------- ---- 39.2/43.6 MB 10.6 MB/s eta 0:00:01\n",
      "   ------------------------------------ --- 39.6/43.6 MB 11.1 MB/s eta 0:00:01\n",
      "   ------------------------------------ --- 40.1/43.6 MB 10.9 MB/s eta 0:00:01\n",
      "   ------------------------------------- -- 40.6/43.6 MB 11.1 MB/s eta 0:00:01\n",
      "   ------------------------------------- -- 41.1/43.6 MB 11.1 MB/s eta 0:00:01\n",
      "   -------------------------------------- - 41.6/43.6 MB 10.9 MB/s eta 0:00:01\n",
      "   -------------------------------------- - 42.1/43.6 MB 10.9 MB/s eta 0:00:01\n",
      "   ---------------------------------------  42.8/43.6 MB 11.3 MB/s eta 0:00:01\n",
      "   ---------------------------------------  42.9/43.6 MB 10.7 MB/s eta 0:00:01\n",
      "   ---------------------------------------  43.6/43.6 MB 10.9 MB/s eta 0:00:01\n",
      "   ---------------------------------------  43.6/43.6 MB 10.7 MB/s eta 0:00:01\n",
      "   ---------------------------------------  43.6/43.6 MB 10.7 MB/s eta 0:00:01\n",
      "   ---------------------------------------- 43.6/43.6 MB 9.8 MB/s eta 0:00:00\n",
      "Downloading threadpoolctl-3.5.0-py3-none-any.whl (18 kB)\n",
      "Installing collected packages: threadpoolctl, scipy, joblib, scikit-learn\n",
      "Successfully installed joblib-1.4.2 scikit-learn-1.6.1 scipy-1.15.1 threadpoolctl-3.5.0\n",
      "Note: you may need to restart the kernel to use updated packages.\n"
     ]
    },
    {
     "name": "stderr",
     "output_type": "stream",
     "text": [
      "\n",
      "[notice] A new release of pip is available: 23.3.2 -> 25.0.1\n",
      "[notice] To update, run: python.exe -m pip install --upgrade pip\n"
     ]
    }
   ],
   "source": [
    "pip install scikit-learn"
   ]
  },
  {
   "cell_type": "code",
   "execution_count": 35,
   "metadata": {},
   "outputs": [
    {
     "data": {
      "text/html": [
       "<div>\n",
       "<style scoped>\n",
       "    .dataframe tbody tr th:only-of-type {\n",
       "        vertical-align: middle;\n",
       "    }\n",
       "\n",
       "    .dataframe tbody tr th {\n",
       "        vertical-align: top;\n",
       "    }\n",
       "\n",
       "    .dataframe thead th {\n",
       "        text-align: right;\n",
       "    }\n",
       "</style>\n",
       "<table border=\"1\" class=\"dataframe\">\n",
       "  <thead>\n",
       "    <tr style=\"text-align: right;\">\n",
       "      <th></th>\n",
       "      <th>Energy Source</th>\n",
       "      <th>Energy Consumption (MWh)</th>\n",
       "      <th>Cost(Millions $)</th>\n",
       "    </tr>\n",
       "  </thead>\n",
       "  <tbody>\n",
       "    <tr>\n",
       "      <th>0</th>\n",
       "      <td>Solar</td>\n",
       "      <td>0.000</td>\n",
       "      <td>0.2</td>\n",
       "    </tr>\n",
       "    <tr>\n",
       "      <th>1</th>\n",
       "      <td>Wind</td>\n",
       "      <td>0.625</td>\n",
       "      <td>1.0</td>\n",
       "    </tr>\n",
       "    <tr>\n",
       "      <th>2</th>\n",
       "      <td>Hydropower</td>\n",
       "      <td>0.850</td>\n",
       "      <td>0.4</td>\n",
       "    </tr>\n",
       "    <tr>\n",
       "      <th>3</th>\n",
       "      <td>Geothermal</td>\n",
       "      <td>0.625</td>\n",
       "      <td>0.0</td>\n",
       "    </tr>\n",
       "    <tr>\n",
       "      <th>4</th>\n",
       "      <td>Biomass</td>\n",
       "      <td>0.650</td>\n",
       "      <td>0.4</td>\n",
       "    </tr>\n",
       "    <tr>\n",
       "      <th>5</th>\n",
       "      <td>Nuclear</td>\n",
       "      <td>1.000</td>\n",
       "      <td>0.4</td>\n",
       "    </tr>\n",
       "  </tbody>\n",
       "</table>\n",
       "</div>"
      ],
      "text/plain": [
       "  Energy Source  Energy Consumption (MWh)  Cost(Millions $)\n",
       "0         Solar                     0.000               0.2\n",
       "1          Wind                     0.625               1.0\n",
       "2    Hydropower                     0.850               0.4\n",
       "3    Geothermal                     0.625               0.0\n",
       "4       Biomass                     0.650               0.4\n",
       "5       Nuclear                     1.000               0.4"
      ]
     },
     "execution_count": 35,
     "metadata": {},
     "output_type": "execute_result"
    }
   ],
   "source": [
    "#Data  Preprocessing - Normalization\n",
    "from sklearn.preprocessing import MinMaxScaler\n",
    "scaler =MinMaxScaler()\n",
    "df [['Energy Consumption (MWh)','Cost(Millions $)']] = scaler.fit_transform(df [['Energy Consumption (MWh)','Cost(Millions $)']])\n",
    "df"
   ]
  },
  {
   "cell_type": "code",
   "execution_count": 36,
   "metadata": {},
   "outputs": [
    {
     "data": {
      "text/html": [
       "<div>\n",
       "<style scoped>\n",
       "    .dataframe tbody tr th:only-of-type {\n",
       "        vertical-align: middle;\n",
       "    }\n",
       "\n",
       "    .dataframe tbody tr th {\n",
       "        vertical-align: top;\n",
       "    }\n",
       "\n",
       "    .dataframe thead th {\n",
       "        text-align: right;\n",
       "    }\n",
       "</style>\n",
       "<table border=\"1\" class=\"dataframe\">\n",
       "  <thead>\n",
       "    <tr style=\"text-align: right;\">\n",
       "      <th></th>\n",
       "      <th>Energy Source</th>\n",
       "      <th>Energy Consumption (MWh)</th>\n",
       "      <th>Cost(Millions $)</th>\n",
       "    </tr>\n",
       "  </thead>\n",
       "  <tbody>\n",
       "    <tr>\n",
       "      <th>0</th>\n",
       "      <td>Solar</td>\n",
       "      <td>-2.005893e+00</td>\n",
       "      <td>-6.546537e-01</td>\n",
       "    </tr>\n",
       "    <tr>\n",
       "      <th>1</th>\n",
       "      <td>Wind</td>\n",
       "      <td>3.563181e-16</td>\n",
       "      <td>1.963961e+00</td>\n",
       "    </tr>\n",
       "    <tr>\n",
       "      <th>2</th>\n",
       "      <td>Hydropower</td>\n",
       "      <td>7.221213e-01</td>\n",
       "      <td>1.817029e-16</td>\n",
       "    </tr>\n",
       "    <tr>\n",
       "      <th>3</th>\n",
       "      <td>Geothermal</td>\n",
       "      <td>3.563181e-16</td>\n",
       "      <td>-1.309307e+00</td>\n",
       "    </tr>\n",
       "    <tr>\n",
       "      <th>4</th>\n",
       "      <td>Biomass</td>\n",
       "      <td>8.023570e-02</td>\n",
       "      <td>1.817029e-16</td>\n",
       "    </tr>\n",
       "    <tr>\n",
       "      <th>5</th>\n",
       "      <td>Nuclear</td>\n",
       "      <td>1.203536e+00</td>\n",
       "      <td>1.817029e-16</td>\n",
       "    </tr>\n",
       "  </tbody>\n",
       "</table>\n",
       "</div>"
      ],
      "text/plain": [
       "  Energy Source  Energy Consumption (MWh)  Cost(Millions $)\n",
       "0         Solar             -2.005893e+00     -6.546537e-01\n",
       "1          Wind              3.563181e-16      1.963961e+00\n",
       "2    Hydropower              7.221213e-01      1.817029e-16\n",
       "3    Geothermal              3.563181e-16     -1.309307e+00\n",
       "4       Biomass              8.023570e-02      1.817029e-16\n",
       "5       Nuclear              1.203536e+00      1.817029e-16"
      ]
     },
     "execution_count": 36,
     "metadata": {},
     "output_type": "execute_result"
    }
   ],
   "source": [
    "from sklearn.preprocessing import StandardScaler\n",
    "scaler = StandardScaler()\n",
    "df [['Energy Consumption (MWh)','Cost(Millions $)']] = scaler.fit_transform(df [['Energy Consumption (MWh)','Cost(Millions $)']])\n",
    "df"
   ]
  },
  {
   "cell_type": "markdown",
   "metadata": {},
   "source": [
    "Encoding - one hot encoding\n"
   ]
  },
  {
   "cell_type": "code",
   "execution_count": 38,
   "metadata": {},
   "outputs": [
    {
     "name": "stdout",
     "output_type": "stream",
     "text": [
      "   Energy Consumption (MWh)  Cost(Millions $)  Energy Source_Biomass  \\\n",
      "0             -2.005893e+00     -6.546537e-01                  False   \n",
      "1              3.563181e-16      1.963961e+00                  False   \n",
      "2              7.221213e-01      1.817029e-16                  False   \n",
      "3              3.563181e-16     -1.309307e+00                  False   \n",
      "4              8.023570e-02      1.817029e-16                   True   \n",
      "5              1.203536e+00      1.817029e-16                  False   \n",
      "\n",
      "   Energy Source_Geothermal  Energy Source_Hydropower  Energy Source_Nuclear  \\\n",
      "0                     False                     False                  False   \n",
      "1                     False                     False                  False   \n",
      "2                     False                      True                  False   \n",
      "3                      True                     False                  False   \n",
      "4                     False                     False                  False   \n",
      "5                     False                     False                   True   \n",
      "\n",
      "   Energy Source_Solar  Energy Source_Wind  \n",
      "0                 True               False  \n",
      "1                False                True  \n",
      "2                False               False  \n",
      "3                False               False  \n",
      "4                False               False  \n",
      "5                False               False  \n"
     ]
    }
   ],
   "source": [
    "one_df = pd.get_dummies(df, columns=[\"Energy Source\"])\n",
    "print(one_df)"
   ]
  },
  {
   "cell_type": "markdown",
   "metadata": {},
   "source": [
    "#Feature engineering"
   ]
  },
  {
   "cell_type": "code",
   "execution_count": 42,
   "metadata": {},
   "outputs": [
    {
     "data": {
      "text/html": [
       "<div>\n",
       "<style scoped>\n",
       "    .dataframe tbody tr th:only-of-type {\n",
       "        vertical-align: middle;\n",
       "    }\n",
       "\n",
       "    .dataframe tbody tr th {\n",
       "        vertical-align: top;\n",
       "    }\n",
       "\n",
       "    .dataframe thead th {\n",
       "        text-align: right;\n",
       "    }\n",
       "</style>\n",
       "<table border=\"1\" class=\"dataframe\">\n",
       "  <thead>\n",
       "    <tr style=\"text-align: right;\">\n",
       "      <th></th>\n",
       "      <th>Energy Consumption (MWh)</th>\n",
       "      <th>Cost(Millions $)</th>\n",
       "      <th>Energy Source_Biomass</th>\n",
       "      <th>Energy Source_Geothermal</th>\n",
       "      <th>Energy Source_Hydropower</th>\n",
       "      <th>Energy Source_Nuclear</th>\n",
       "      <th>Energy Source_Solar</th>\n",
       "      <th>Energy Source_Wind</th>\n",
       "      <th>Consumption per million $</th>\n",
       "    </tr>\n",
       "  </thead>\n",
       "  <tbody>\n",
       "    <tr>\n",
       "      <th>0</th>\n",
       "      <td>-2.005893e+00</td>\n",
       "      <td>-6.546537e-01</td>\n",
       "      <td>False</td>\n",
       "      <td>False</td>\n",
       "      <td>False</td>\n",
       "      <td>False</td>\n",
       "      <td>True</td>\n",
       "      <td>False</td>\n",
       "      <td>3.064052e+00</td>\n",
       "    </tr>\n",
       "    <tr>\n",
       "      <th>1</th>\n",
       "      <td>3.563181e-16</td>\n",
       "      <td>1.963961e+00</td>\n",
       "      <td>False</td>\n",
       "      <td>False</td>\n",
       "      <td>False</td>\n",
       "      <td>False</td>\n",
       "      <td>False</td>\n",
       "      <td>True</td>\n",
       "      <td>1.814283e-16</td>\n",
       "    </tr>\n",
       "    <tr>\n",
       "      <th>2</th>\n",
       "      <td>7.221213e-01</td>\n",
       "      <td>1.817029e-16</td>\n",
       "      <td>False</td>\n",
       "      <td>False</td>\n",
       "      <td>True</td>\n",
       "      <td>False</td>\n",
       "      <td>False</td>\n",
       "      <td>False</td>\n",
       "      <td>3.974187e+15</td>\n",
       "    </tr>\n",
       "    <tr>\n",
       "      <th>3</th>\n",
       "      <td>3.563181e-16</td>\n",
       "      <td>-1.309307e+00</td>\n",
       "      <td>False</td>\n",
       "      <td>True</td>\n",
       "      <td>False</td>\n",
       "      <td>False</td>\n",
       "      <td>False</td>\n",
       "      <td>False</td>\n",
       "      <td>-2.721424e-16</td>\n",
       "    </tr>\n",
       "    <tr>\n",
       "      <th>4</th>\n",
       "      <td>8.023570e-02</td>\n",
       "      <td>1.817029e-16</td>\n",
       "      <td>True</td>\n",
       "      <td>False</td>\n",
       "      <td>False</td>\n",
       "      <td>False</td>\n",
       "      <td>False</td>\n",
       "      <td>False</td>\n",
       "      <td>4.415764e+14</td>\n",
       "    </tr>\n",
       "    <tr>\n",
       "      <th>5</th>\n",
       "      <td>1.203536e+00</td>\n",
       "      <td>1.817029e-16</td>\n",
       "      <td>False</td>\n",
       "      <td>False</td>\n",
       "      <td>False</td>\n",
       "      <td>True</td>\n",
       "      <td>False</td>\n",
       "      <td>False</td>\n",
       "      <td>6.623646e+15</td>\n",
       "    </tr>\n",
       "  </tbody>\n",
       "</table>\n",
       "</div>"
      ],
      "text/plain": [
       "   Energy Consumption (MWh)  Cost(Millions $)  Energy Source_Biomass  \\\n",
       "0             -2.005893e+00     -6.546537e-01                  False   \n",
       "1              3.563181e-16      1.963961e+00                  False   \n",
       "2              7.221213e-01      1.817029e-16                  False   \n",
       "3              3.563181e-16     -1.309307e+00                  False   \n",
       "4              8.023570e-02      1.817029e-16                   True   \n",
       "5              1.203536e+00      1.817029e-16                  False   \n",
       "\n",
       "   Energy Source_Geothermal  Energy Source_Hydropower  Energy Source_Nuclear  \\\n",
       "0                     False                     False                  False   \n",
       "1                     False                     False                  False   \n",
       "2                     False                      True                  False   \n",
       "3                      True                     False                  False   \n",
       "4                     False                     False                  False   \n",
       "5                     False                     False                   True   \n",
       "\n",
       "   Energy Source_Solar  Energy Source_Wind  Consumption per million $  \n",
       "0                 True               False               3.064052e+00  \n",
       "1                False                True               1.814283e-16  \n",
       "2                False               False               3.974187e+15  \n",
       "3                False               False              -2.721424e-16  \n",
       "4                False               False               4.415764e+14  \n",
       "5                False               False               6.623646e+15  "
      ]
     },
     "execution_count": 42,
     "metadata": {},
     "output_type": "execute_result"
    }
   ],
   "source": [
    "one_df[\"Consumption per million $\"] = one_df['Energy Consumption (MWh)']/one_df['Cost(Millions $)']\n",
    "one_df\n"
   ]
  }
 ],
 "metadata": {
  "kernelspec": {
   "display_name": "Python 3",
   "language": "python",
   "name": "python3"
  },
  "language_info": {
   "codemirror_mode": {
    "name": "ipython",
    "version": 3
   },
   "file_extension": ".py",
   "mimetype": "text/x-python",
   "name": "python",
   "nbconvert_exporter": "python",
   "pygments_lexer": "ipython3",
   "version": "3.12.0"
  }
 },
 "nbformat": 4,
 "nbformat_minor": 2
}
